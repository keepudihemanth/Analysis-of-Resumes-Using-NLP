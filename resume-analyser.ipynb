{
 "cells": [
  {
   "cell_type": "code",
   "execution_count": null,
   "id": "0cf55c5f-4f15-4ac7-bf3f-832d1df4f21b",
   "metadata": {
    "scrolled": true
   },
   "outputs": [],
   "source": [
    "# Install necessary packages\n",
    "%pip install pdfminer.six pandas spacy tensorflow torch torchvision torchaudio joblib fuzzywuzzy python-Levenshtein\n",
    "!python -m spacy download en_core_web_sm"
   ]
  },
  {
   "cell_type": "code",
   "execution_count": 2,
   "id": "d79ad952-514d-4837-9239-84ff22032fb9",
   "metadata": {},
   "outputs": [],
   "source": [
    "# Import libraries\n",
    "import os\n",
    "import re\n",
    "import spacy\n",
    "import numpy as np\n",
    "import joblib\n",
    "import matplotlib.pyplot as plt\n",
    "from pdfminer.high_level import extract_text\n",
    "from tensorflow.keras.models import Sequential\n",
    "from tensorflow.keras.layers import Embedding, GlobalAveragePooling1D, Dense\n",
    "from tensorflow.keras.preprocessing.text import Tokenizer\n",
    "from tensorflow.keras.preprocessing.sequence import pad_sequences\n",
    "from tensorflow.keras.models import load_model"
   ]
  },
  {
   "cell_type": "code",
   "execution_count": null,
   "id": "f757def1-01bb-46b0-922a-71f5a686ee42",
   "metadata": {
    "scrolled": true
   },
   "outputs": [],
   "source": [
    "import warnings\n",
    "import logging\n",
    "logging.getLogger(\"pdfminer\").setLevel(logging.ERROR)\n",
    "\n",
    "\n",
    "warnings.filterwarnings(\"ignore\", category=UserWarning, module=\"pdfminer.pdffont\")\n",
    "\n",
    "def extract_texts_from_folder(folder_path):\n",
    "    texts = {}\n",
    "    for filename in os.listdir(folder_path):\n",
    "        if filename.endswith(\".pdf\"):\n",
    "            pdf_path = os.path.join(folder_path, filename)\n",
    "            try:\n",
    "                text = extract_text(pdf_path)\n",
    "                texts[filename] = text\n",
    "            except Exception as e:\n",
    "                print(f\"Failed to extract {filename}: {e}\")\n",
    "    return texts\n",
    "\n",
    "# Load resumes\n",
    "folder_path = \"resumes\"\n",
    "all_texts = extract_texts_from_folder(folder_path)\n",
    "\n",
    "for filename, text in all_texts.items():\n",
    "    print(f\"\\n--- {filename} ---\")\n",
    "    print(text[:900])\n"
   ]
  },
  {
   "cell_type": "code",
   "execution_count": 4,
   "id": "be7d5e4f-1ffd-4e7b-852b-ae024b2d2b0d",
   "metadata": {},
   "outputs": [],
   "source": [
    "def clean_text(text):\n",
    "    text = re.sub(r'\\n+', '\\n', text)\n",
    "    text = re.sub(r' +', ' ', text)\n",
    "    return text.strip()\n",
    "\n",
    "# Clean all texts\n",
    "cleaned_texts = {filename: clean_text(text) for filename, text in all_texts.items()}"
   ]
  },
  {
   "cell_type": "code",
   "execution_count": 5,
   "id": "ae637bd4-d4b9-4060-8407-90f8f60f7319",
   "metadata": {},
   "outputs": [],
   "source": [
    "nlp = spacy.load(\"en_core_web_sm\")"
   ]
  },
  {
   "cell_type": "code",
   "execution_count": null,
   "id": "0f841abd-8ccf-4806-afb4-a605d9e615be",
   "metadata": {
    "scrolled": true
   },
   "outputs": [],
   "source": [
    "import re\n",
    "import spacy\n",
    "from fuzzywuzzy import fuzz\n",
    "\n",
    "nlp = spacy.load(\"en_core_web_sm\")\n",
    "\n",
    "# Define section keywords\n",
    "EDU_KEYWORDS = [\"education\", \"academic background\", \"academic qualifications\", \"qualifications\"]\n",
    "EXP_KEYWORDS = [\"experience\", \"work experience\", \"professional experience\", \"employment history\", \"career history\"]\n",
    "PROJ_KEYWORDS = [\"projects\", \"personal projects\", \"project experience\", \"relevant projects\"]\n",
    "\n",
    "# Expanded skill set\n",
    "SKILL_SET = ['tensorflow', 'keras', 'pytorch', 'machine learning', 'deep learning', 'flask', 'streamlit', 'react', 'django', 'node js', 'react js', 'php', 'laravel', 'magento', 'wordpress', 'javascript', 'angular js', 'c#', 'android', 'android development', 'flutter', 'kotlin', 'xml', 'kivy', 'ios', 'ios development', 'swift', 'cocoa', 'cocoa touch', 'xcode', 'ux', 'adobe xd', 'figma', 'zeplin', 'balsamiq', 'ui', 'prototyping', 'wireframes', 'storyframes', 'adobe photoshop', 'photoshop', 'editing', 'adobe illustrator', 'illustrator', 'adobe after effects', 'after effects', 'adobe premier pro', 'premier pro', 'adobe indesign', 'indesign', 'wireframe', 'solid', 'grasp', 'user research', 'user experience', 'aws', 'google cloud platform', 'microsoft azure', 'docker', 'kubernetes', 'jenkins', 'github actions', 'terraform', 'ci/cd', 'ansible', 'apache spark', 'apache kafka', 'hadoop', 'airflow', 'snowflake', 'etl', 'dbt', 'pandas', 'numpy', 'mysql', 'postgresql', 'mongodb', 'sqlite', 'redis', 'firebase', 'cassandra', 'elasticsearch', 'next.js', 'vue.js', 'svelte', 'tailwind css', 'bootstrap', 'rest api', 'graphql', 'websockets', 'typescript', 'go', 'rust', 'scala', 'ruby', 'bash', 'matlab', 'opencv', 'transformers', 'hugging face', 'nltk', 'spacy', 'scikit-learn', 'langchain', 'llm', 'generative ai', 'chatgpt', 'prompt engineering', 'owasp', 'penetration testing', 'burp suite', 'wireshark', 'ethical hacking', 'kali linux', 'selenium', 'junit', 'cypress', 'postman', 'testng', 'appium', 'jira', 'trello', 'asana', 'notion', 'confluence', 'slack', 'agile', 'scrum', 'blender', 'canva', 'sketch', 'invision', 'reactjs', 'node.js', 'angular', 'vue', 'machine-learning', 'deep-learning', 'gcp', 'azure', 'ui/ux', 'adobe premiere', 'adobe aftereffects']\n",
    "\n",
    "def extract_email(text):\n",
    "    email_pattern = r'[a-zA-Z0-9._%+-]+@[a-zA-Z0-9.-]+\\.[a-zA-Z]{2,}'\n",
    "    matches = re.findall(email_pattern, text)\n",
    "    return matches[0] if matches else None\n",
    "\n",
    "def extract_phone(text):\n",
    "    phone_pattern = r'(\\+?\\d{1,3}[\\s.-]?)?\\(?\\d{3}\\)?[\\s.-]?\\d{3}[\\s.-]?\\d{4}'\n",
    "    matches = re.findall(phone_pattern, text)\n",
    "    return normalize_phone(matches[0]) if matches else \"N/A\"\n",
    "\n",
    "def normalize_phone(phone):\n",
    "    if not phone:\n",
    "        return \"N/A\"\n",
    "    return re.sub(r'[^\\d+]', '', phone)\n",
    "\n",
    "def extract_name(text):\n",
    "    doc = nlp(text)\n",
    "    for ent in doc.ents:\n",
    "        if ent.label_ == \"PERSON\":\n",
    "            return ent.text\n",
    "    lines = text.splitlines()[:5]\n",
    "    name_pattern = r'^[A-Z][a-zA-Z\\s]*(?:[A-Z][a-zA-Z\\s]*){1,3}$'\n",
    "    for line in lines:\n",
    "        line = line.strip()\n",
    "        if re.match(name_pattern, line):\n",
    "            return line\n",
    "    return \"N/A\"\n",
    "\n",
    "def extract_skills_from_text(text, skill_set, threshold=90):\n",
    "    text = text.lower()\n",
    "    found_skills = set()\n",
    "    doc = nlp(text)\n",
    "    tokens = [token.text.lower() for token in doc]\n",
    "    \n",
    "    for skill in skill_set:\n",
    "        skill_lower = skill.lower()\n",
    "        if re.search(r'\\b' + re.escape(skill_lower) + r'\\b', text):\n",
    "            found_skills.add(skill)\n",
    "        else:\n",
    "            for token in tokens:\n",
    "                if fuzz.ratio(skill_lower, token) > threshold:\n",
    "                    found_skills.add(skill)\n",
    "                    break\n",
    "    return sorted(list(found_skills))\n",
    "\n",
    "def extract_section(text, section_names, max_section_length=2000):\n",
    "    lower_text = text.lower()\n",
    "    headers_positions = []\n",
    "    \n",
    "    for sec in section_names:\n",
    "        pattern = r'(?m)^\\s*' + re.escape(sec.lower()) + r'\\s*[:\\-\\s]?\\s*$'\n",
    "        for match in re.finditer(pattern, lower_text):\n",
    "            headers_positions.append((match.start(), sec))\n",
    "    \n",
    "    if not headers_positions:\n",
    "        return None\n",
    "    \n",
    "    headers_positions.sort(key=lambda x: x[0])\n",
    "    start_pos, matched_section = headers_positions[0]\n",
    "    \n",
    "    next_headers = [pos for pos, _ in headers_positions if pos > start_pos]\n",
    "    end_pos = min(next_headers) if next_headers else min(start_pos + max_section_length, len(text))\n",
    "    \n",
    "    section_text = text[start_pos:end_pos].strip()\n",
    "    section_text_lines = section_text.splitlines()\n",
    "    if section_text_lines and any(sec.lower() in section_text_lines[0].lower() for sec in section_names):\n",
    "        section_text_lines = section_text_lines[1:]\n",
    "    \n",
    "    return \"\\n\".join(section_text_lines).strip()\n",
    "\n",
    "def process_resume(text, idx, skill_set):\n",
    "    try:\n",
    "        name = extract_name(text)\n",
    "        email = extract_email(text)\n",
    "        phone = extract_phone(text)\n",
    "        skills = extract_skills_from_text(text, skill_set)\n",
    "        education = extract_section(text, EDU_KEYWORDS)\n",
    "        experience = extract_section(text, EXP_KEYWORDS)\n",
    "        projects = extract_section(text, PROJ_KEYWORDS)\n",
    "        \n",
    "        print(f\"PDF {idx + 1}: Name: {name}, Email: {email}, Phone: {phone}, Skills: {', '.join(skills) if skills else 'N/A'}\")\n",
    "        print(f\"Education:\\n{education if education else 'N/A'}\\n\")\n",
    "        print(f\"Experience:\\n{experience if experience else 'N/A'}\\n\")\n",
    "        print(f\"Projects:\\n{projects if projects else 'N/A'}\\n\")\n",
    "        print(\"-\" * 80)\n",
    "    except Exception as e:\n",
    "        print(f\"Error processing PDF {idx + 1}: {str(e)}\")\n",
    "\n",
    "# Process resumes (assuming `texts` is a list of resume texts)\n",
    "for idx, text in enumerate(texts):\n",
    "    process_resume(text, idx, SKILL_SET)"
   ]
  },
  {
   "cell_type": "code",
   "execution_count": 6,
   "id": "b7b03555-4628-4463-a189-a3e7913cfc4b",
   "metadata": {},
   "outputs": [
    {
     "data": {
      "text/plain": [
       "['tokenizer.pkl']"
      ]
     },
     "execution_count": 6,
     "metadata": {},
     "output_type": "execute_result"
    }
   ],
   "source": [
    "texts = list(cleaned_texts.values())\n",
    "labels = [1] * len(texts)  # Dummy binary labels\n",
    "\n",
    "# Tokenize\n",
    "vocab_size = 1000\n",
    "max_length = 100\n",
    "tokenizer = Tokenizer(num_words=vocab_size, oov_token=\"<OOV>\")\n",
    "tokenizer.fit_on_texts(texts)\n",
    "\n",
    "sequences = tokenizer.texts_to_sequences(texts)\n",
    "padded_sequences = pad_sequences(sequences, maxlen=max_length, padding='post', truncating='post')\n",
    "\n",
    "# Save tokenizer\n",
    "joblib.dump(tokenizer, 'tokenizer.pkl')\n"
   ]
  },
  {
   "cell_type": "code",
   "execution_count": 8,
   "id": "0193ba19-c6af-4db6-81da-c5b0efb57da3",
   "metadata": {},
   "outputs": [
    {
     "name": "stdout",
     "output_type": "stream",
     "text": [
      "Epoch 1/10\n",
      "\u001b[1m2/2\u001b[0m \u001b[32m━━━━━━━━━━━━━━━━━━━━\u001b[0m\u001b[37m\u001b[0m \u001b[1m3s\u001b[0m 448ms/step - accuracy: 0.5938 - loss: 0.6920 - val_accuracy: 1.0000 - val_loss: 0.6798\n",
      "Epoch 2/10\n",
      "\u001b[1m2/2\u001b[0m \u001b[32m━━━━━━━━━━━━━━━━━━━━\u001b[0m\u001b[37m\u001b[0m \u001b[1m0s\u001b[0m 140ms/step - accuracy: 1.0000 - loss: 0.6786 - val_accuracy: 1.0000 - val_loss: 0.6668\n",
      "Epoch 3/10\n",
      "\u001b[1m2/2\u001b[0m \u001b[32m━━━━━━━━━━━━━━━━━━━━\u001b[0m\u001b[37m\u001b[0m \u001b[1m0s\u001b[0m 127ms/step - accuracy: 1.0000 - loss: 0.6653 - val_accuracy: 1.0000 - val_loss: 0.6530\n",
      "Epoch 4/10\n",
      "\u001b[1m2/2\u001b[0m \u001b[32m━━━━━━━━━━━━━━━━━━━━\u001b[0m\u001b[37m\u001b[0m \u001b[1m0s\u001b[0m 139ms/step - accuracy: 1.0000 - loss: 0.6512 - val_accuracy: 1.0000 - val_loss: 0.6386\n",
      "Epoch 5/10\n",
      "\u001b[1m2/2\u001b[0m \u001b[32m━━━━━━━━━━━━━━━━━━━━\u001b[0m\u001b[37m\u001b[0m \u001b[1m0s\u001b[0m 138ms/step - accuracy: 1.0000 - loss: 0.6364 - val_accuracy: 1.0000 - val_loss: 0.6237\n",
      "Epoch 6/10\n",
      "\u001b[1m2/2\u001b[0m \u001b[32m━━━━━━━━━━━━━━━━━━━━\u001b[0m\u001b[37m\u001b[0m \u001b[1m0s\u001b[0m 149ms/step - accuracy: 1.0000 - loss: 0.6212 - val_accuracy: 1.0000 - val_loss: 0.6083\n",
      "Epoch 7/10\n",
      "\u001b[1m2/2\u001b[0m \u001b[32m━━━━━━━━━━━━━━━━━━━━\u001b[0m\u001b[37m\u001b[0m \u001b[1m0s\u001b[0m 132ms/step - accuracy: 1.0000 - loss: 0.6060 - val_accuracy: 1.0000 - val_loss: 0.5924\n",
      "Epoch 8/10\n",
      "\u001b[1m2/2\u001b[0m \u001b[32m━━━━━━━━━━━━━━━━━━━━\u001b[0m\u001b[37m\u001b[0m \u001b[1m0s\u001b[0m 125ms/step - accuracy: 1.0000 - loss: 0.5895 - val_accuracy: 1.0000 - val_loss: 0.5760\n",
      "Epoch 9/10\n",
      "\u001b[1m2/2\u001b[0m \u001b[32m━━━━━━━━━━━━━━━━━━━━\u001b[0m\u001b[37m\u001b[0m \u001b[1m0s\u001b[0m 156ms/step - accuracy: 1.0000 - loss: 0.5725 - val_accuracy: 1.0000 - val_loss: 0.5592\n",
      "Epoch 10/10\n",
      "\u001b[1m2/2\u001b[0m \u001b[32m━━━━━━━━━━━━━━━━━━━━\u001b[0m\u001b[37m\u001b[0m \u001b[1m0s\u001b[0m 272ms/step - accuracy: 1.0000 - loss: 0.5556 - val_accuracy: 1.0000 - val_loss: 0.5421\n"
     ]
    }
   ],
   "source": [
    "model = Sequential([\n",
    "    Embedding(input_dim=5000, output_dim=16),\n",
    "    GlobalAveragePooling1D(),\n",
    "    Dense(16, activation='relu'),\n",
    "    Dense(1, activation='sigmoid')  # Binary classification\n",
    "])\n",
    "\n",
    "model.compile(loss='binary_crossentropy', optimizer='adam', metrics=['accuracy'])\n",
    "\n",
    "# Dummy data split\n",
    "X_train = padded_sequences\n",
    "y_train = np.array(labels)\n",
    "\n",
    "\n",
    "# Train model\n",
    "history = model.fit(X_train, y_train, epochs=10, validation_split=0.2, verbose=1)\n",
    "\n",
    "# Save training history\n",
    "train_losses = history.history['loss']\n",
    "val_losses = history.history['val_loss']\n",
    "train_accuracies = history.history['accuracy']\n",
    "val_accuracies = history.history['val_accuracy']"
   ]
  },
  {
   "cell_type": "code",
   "execution_count": 9,
   "id": "d70b017f-d334-47bd-9585-48ec78366cf7",
   "metadata": {},
   "outputs": [
    {
     "data": {
      "image/png": "[encoded data removed]",
      "text/plain": [
       "<Figure size 1200x500 with 2 Axes>"
      ]
     },
     "metadata": {},
     "output_type": "display_data"
    }
   ],
   "source": [
    "epochs = range(1, len(train_losses) + 1)\n",
    "plt.figure(figsize=(12, 5))\n",
    "\n",
    "plt.subplot(1, 2, 1)\n",
    "plt.plot(epochs, train_losses, label='Train Loss', marker='o')\n",
    "plt.plot(epochs, val_losses, label='Val Loss', marker='o')\n",
    "plt.title('Loss over Epochs')\n",
    "plt.xlabel('Epoch')\n",
    "plt.ylabel('Loss')\n",
    "plt.legend()\n",
    "\n",
    "plt.subplot(1, 2, 2)\n",
    "plt.plot(epochs, train_accuracies, label='Train Accuracy', marker='o')\n",
    "plt.plot(epochs, val_accuracies, label='Val Accuracy', marker='o')\n",
    "plt.title('Accuracy over Epochs')\n",
    "plt.xlabel('Epoch')\n",
    "plt.ylabel('Accuracy')\n",
    "plt.legend()\n",
    "\n",
    "plt.tight_layout()\n",
    "plt.savefig('training_metrics.png')"
   ]
  },
  {
   "cell_type": "code",
   "execution_count": 10,
   "id": "74dbf688-95db-4e7a-acb5-a70989dac3c9",
   "metadata": {},
   "outputs": [
    {
     "name": "stdout",
     "output_type": "stream",
     "text": [
      "Model and weights saved.\n"
     ]
    }
   ],
   "source": [
    "import absl.logging\n",
    "absl.logging.set_verbosity(absl.logging.ERROR)\n",
    "\n",
    "\n",
    "model.save('resume_parser_model.h5')\n",
    "model.save_weights('resume_parser.weights.h5')\n",
    "print(\"Model and weights saved.\")"
   ]
  },
  {
   "cell_type": "code",
   "execution_count": 11,
   "id": "d42ec55a-3e2f-407d-824d-1f74029b92e2",
   "metadata": {},
   "outputs": [],
   "source": [
    "import absl.logging\n",
    "absl.logging.set_verbosity(absl.logging.ERROR)\n",
    "\n",
    "\n",
    "from tensorflow.keras.models import load_model\n",
    "import joblib\n",
    "from tensorflow.keras.preprocessing.sequence import pad_sequences\n",
    "\n",
    "# Load model and tokenizer\n",
    "model = load_model(\"resume_parser_model.h5\")\n",
    "tokenizer = joblib.load(\"tokenizer.pkl\")\n",
    "\n",
    "# Function to preprocess and predict\n",
    "def parse_and_classify_resume(pdf_path):\n",
    "    # Load and extract text\n",
    "    text = extract_text(pdf_path)\n",
    "\n",
    "    # Extract fields\n",
    "    email = extract_email(text)\n",
    "    phone = extract_phone(text)\n",
    "    name = extract_name(text)\n",
    "    skills = extract_skills_from_text(text, SKILL_SET)\n",
    "    education = extract_section(text, EDU_KEYWORDS) \n",
    "    experience = extract_section(text, EXP_KEYWORDS)\n",
    "    projects = extract_section(text, PROJ_KEYWORDS)\n",
    "\n",
    "    # Load tokenizer and model\n",
    "    tokenizer = joblib.load(\"tokenizer.pkl\")\n",
    "    model = load_model(\"resume_parser_model.h5\")\n",
    "\n",
    "    # Preprocess text for prediction\n",
    "    sequence = tokenizer.texts_to_sequences([text])\n",
    "    new_data = pad_sequences(sequence, maxlen=100, padding='post', truncating='post')\n",
    "\n",
    "    # Predict\n",
    "    prediction = model.predict(new_data)[0][0]\n",
    "    label = \"Relevant\" if prediction > 0.5 else \"Not Relevant\"\n",
    "\n",
    "    # Combine results\n",
    "    return {\n",
    "        \"Name\": name,\n",
    "        \"Email\": email,\n",
    "        \"Phone\": phone,\n",
    "        \"Skills\": skills,\n",
    "        \n",
    "        \"Prediction\": label,\n",
    "        \"Confidence\": round(float(prediction), 2)\n",
    "    }"
   ]
  },
  {
   "cell_type": "code",
   "execution_count": null,
   "id": "1f15ddde-fff9-40d5-96e0-0e5ed64f7606",
   "metadata": {},
   "outputs": [],
   "source": [
    "import absl.logging\n",
    "absl.logging.set_verbosity(absl.logging.ERROR)\n",
    "\n",
    "result = parse_and_classify_resume(\"90280583.pdf\")\n",
    "print(result)\n"
   ]
  },
  {
   "cell_type": "code",
   "execution_count": null,
   "id": "46707404-4990-4122-a67b-24de15198d8a",
   "metadata": {},
   "outputs": [],
   "source": []
  },
  {
   "cell_type": "code",
   "execution_count": null,
   "id": "e98caf42-c1f6-4df3-8bca-dfbddd3c0c33",
   "metadata": {},
   "outputs": [],
   "source": []
  }
 ],
 "metadata": {
  "kernelspec": {
   "display_name": "Python (myenv)",
   "language": "python",
   "name": "myenv"
  },
  "language_info": {
   "codemirror_mode": {
    "name": "ipython",
    "version": 3
   },
   "file_extension": ".py",
   "mimetype": "text/x-python",
   "name": "python",
   "nbconvert_exporter": "python",
   "pygments_lexer": "ipython3",
   "version": "3.11.9"
  }
 },
 "nbformat": 4,
 "nbformat_minor": 5
}
